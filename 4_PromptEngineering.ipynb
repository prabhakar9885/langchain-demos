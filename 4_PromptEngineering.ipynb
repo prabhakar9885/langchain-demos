{
 "cells": [
  {
   "metadata": {
    "ExecuteTime": {
     "end_time": "2024-05-07T00:57:58.748447Z",
     "start_time": "2024-05-07T00:57:58.178218Z"
    }
   },
   "cell_type": "code",
   "source": [
    "from langchain_openai import OpenAI\n",
    "import os\n",
    "from constants import openai_key\n",
    "\n",
    "os.environ['OPENAI_API_KEY'] = openai_key\n",
    "\n",
    "llm = OpenAI(temperature=0.8)"
   ],
   "id": "da45ed70e22bbdbb",
   "outputs": [],
   "execution_count": 4
  },
  {
   "metadata": {},
   "cell_type": "markdown",
   "source": [
    "# Template with one arg\n",
    "- [args vs kwargs](https://www.geeksforgeeks.org/args-kwargs-python/)\n",
    "- [RunnableSequence](https://api.python.langchain.com/en/latest/runnables/langchain_core.runnables.base.RunnableSequence.html)"
   ],
   "id": "2b71da255af0f10e"
  },
  {
   "metadata": {
    "ExecuteTime": {
     "end_time": "2024-05-07T01:04:05.222161Z",
     "start_time": "2024-05-07T01:04:05.216295Z"
    }
   },
   "cell_type": "code",
   "source": [
    "from langchain_core.prompts import PromptTemplate\n",
    "\n",
    "prompt_1 = PromptTemplate(\n",
    "    input_variables = ['financial_concept'],\n",
    "    template = \"You are a financial advisory who is expert and explaining the financial concepts in an easy to understand language. Now explain me everything a common man should know about {financial_concept}, before making any decisions about {financial_concept}.\"\n",
    ")"
   ],
   "id": "b98a01f4124783f",
   "outputs": [],
   "execution_count": 6
  },
  {
   "metadata": {
    "ExecuteTime": {
     "end_time": "2024-05-07T01:04:43.232557Z",
     "start_time": "2024-05-07T01:04:39.029123Z"
    }
   },
   "cell_type": "code",
   "source": [
    "sequence_1 = prompt_1 | llm\n",
    "\n",
    "print( sequence_1.invoke(input=\"IPO\") )"
   ],
   "id": "68561507f521e58b",
   "outputs": [
    {
     "name": "stdout",
     "output_type": "stream",
     "text": [
      "\n",
      "\n",
      "An IPO (Initial Public Offering) is when a private company offers its shares to the public for the first time, allowing individuals to become part owners of the company.\n",
      "\n",
      "Before making any decisions about investing in an IPO, there are a few key things that a common man should know:\n",
      "\n",
      "1. Understand the company: Before investing in an IPO, it is important to understand the company and its business model. Research the company's financial statements, industry trends, and competition to get a better understanding of its future potential.\n",
      "\n",
      "2. Know the risks involved: Investing in an IPO is considered a high-risk investment, as the company is new to the public market and may not have a track record of success. Make sure you are aware of the risks involved and are comfortable taking on this level of risk.\n",
      "\n",
      "3. Look at the company's valuation: The IPO price is determined by the company and its underwriters, and it may not always be a fair valuation. It is important to compare the IPO price with the company's financials and industry standards to determine if it is overvalued or undervalued.\n",
      "\n",
      "4. Consider the lock-up period: A lock-up period is a predetermined time frame (usually 90-180 days) after the IPO where company insiders, such as founders\n"
     ]
    }
   ],
   "execution_count": 7
  },
  {
   "metadata": {},
   "cell_type": "markdown",
   "source": "# Template with multiple args",
   "id": "ac2be5eecf724ead"
  },
  {
   "metadata": {
    "ExecuteTime": {
     "end_time": "2024-05-07T02:02:30.742231Z",
     "start_time": "2024-05-07T02:02:30.736837Z"
    }
   },
   "cell_type": "code",
   "source": [
    "prompt_2 = PromptTemplate(\n",
    "    input_variables = ['statement', 'target_language'],\n",
    "    template = \"Translate the sentence '{statement}' into {target_language}.\"\n",
    ")\n",
    "print( prompt_2 )\n",
    "print( prompt_2.format( statement='Did you have breakfast?', target_language='telugu' ) )"
   ],
   "id": "bf9072ef18935364",
   "outputs": [
    {
     "name": "stdout",
     "output_type": "stream",
     "text": [
      "input_variables=['statement', 'target_language'] template=\"Translate the sentence '{statement}' into {target_language}.\"\n",
      "Translate the sentence 'Did you have breakfast?' into telugu.\n"
     ]
    }
   ],
   "execution_count": 18
  },
  {
   "metadata": {
    "ExecuteTime": {
     "end_time": "2024-05-07T02:02:48.765252Z",
     "start_time": "2024-05-07T02:02:47.674536Z"
    }
   },
   "cell_type": "code",
   "source": [
    "sequence_2 = prompt_2 | llm\n",
    "print( sequence_2.invoke( input= {'statement':'Had your breakfast?', 'target_language':'telugu'} ) )"
   ],
   "id": "9002315144620eee",
   "outputs": [
    {
     "name": "stdout",
     "output_type": "stream",
     "text": [
      "\n",
      "\n",
      "నీరు తినలేదా? (Nīru tinalēdā?)\n"
     ]
    }
   ],
   "execution_count": 19
  },
  {
   "metadata": {},
   "cell_type": "markdown",
   "source": "# FewShotTemplate",
   "id": "39ab2f8f81c3c13b"
  },
  {
   "metadata": {},
   "cell_type": "code",
   "outputs": [],
   "execution_count": null,
   "source": "",
   "id": "f2d26060918cbff7"
  }
 ],
 "metadata": {
  "kernelspec": {
   "display_name": "Python 3",
   "language": "python",
   "name": "python3"
  },
  "language_info": {
   "codemirror_mode": {
    "name": "ipython",
    "version": 2
   },
   "file_extension": ".py",
   "mimetype": "text/x-python",
   "name": "python",
   "nbconvert_exporter": "python",
   "pygments_lexer": "ipython2",
   "version": "2.7.6"
  }
 },
 "nbformat": 4,
 "nbformat_minor": 5
}
